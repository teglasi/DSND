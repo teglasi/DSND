{
 "cells": [
  {
   "cell_type": "markdown",
   "metadata": {
    "collapsed": true,
    "deletable": true,
    "editable": true
   },
   "source": [
    "# Data Analysis on Stack Overflow Survey - 2018\n",
    "\n",
    "The 2018 Stack Overflow Annual Developer Survey is a comprehensive survey of software developers filled in by more than 100,000 respondents. The full dataset is avaialble on https://insights.stackoverflow.com/survey\n",
    "\n",
    "In this analysis I identify those developers, who have changed career in the last five years and try to find answers for the following questions:\n",
    "\n",
    "-  **What type of roles do career changers look for?**\n",
    "-  **How satisfied are career changers with their developer career thus far?**\n",
    "-  **What do they want to achieve in five years?**\n"
   ]
  },
  {
   "cell_type": "markdown",
   "metadata": {},
   "source": [
    "## 1. Importing Necessary Libraries"
   ]
  },
  {
   "cell_type": "code",
   "execution_count": 1,
   "metadata": {
    "collapsed": true,
    "deletable": true,
    "editable": true
   },
   "outputs": [],
   "source": [
    "# Importing necessary libraries\n",
    "import numpy as np\n",
    "import pandas as pd\n",
    "import matplotlib.pyplot as plt\n",
    "import seaborn as sns\n",
    "from collections import Counter\n",
    "%matplotlib inline"
   ]
  },
  {
   "cell_type": "markdown",
   "metadata": {},
   "source": [
    "## 2. Function Definitions\n",
    "\n",
    "I defined some functions which may be reused several times to make the whole notebook cleaner.\n",
    "\n",
    "**get_unique_values(df_colum, delim=',')**\n",
    "\n",
    "    This function checks all cells of a dataframe column and returns all unique values as a set. We need this because Pandas' df.column.unique() handles each cell as a unique label. We want to identify different labels within a single cell, separated by the delimiter.\n",
    "\n",
    "**count_labels_in_col(df_column, delim=',')**\n",
    "\n",
    "    This function sums up the occurances of labels found in a column of a dataframe. The specialty of this function is that it recognizes more than one label within the same cell, separated by the delimiter.\n"
   ]
  },
  {
   "cell_type": "code",
   "execution_count": 2,
   "metadata": {
    "collapsed": true
   },
   "outputs": [],
   "source": [
    "def get_unique_values(df_column, delim=','):\n",
    "    '''\n",
    "    INPUT\n",
    "        df_column - a column of a dataframe; string required\n",
    "        delim - delimiter of data (labels) within a cell\n",
    "    \n",
    "    OUTPUT\n",
    "        a set of unique values in the column of the dataset\n",
    "    '''\n",
    "    \n",
    "    return set([i for j in df_column.dropna() for i in j.split(delim)])\n",
    "\n",
    "def count_labels_in_col(df_column, delim=','):\n",
    "    '''\n",
    "    INPUT\n",
    "        df_column - a column of a dataframe; string required\n",
    "        delim - delimiter of data (labels) within a cell\n",
    "    \n",
    "    OUTPUT\n",
    "        a dataframe with two columns: labels, count\n",
    "    '''\n",
    "    ctr = Counter([i for j in df_column.dropna() for i in j.split(delim)])\n",
    "    return pd.DataFrame.from_dict(ctr, orient='index').reset_index().rename(columns={'index':'labels', 0:'count'})"
   ]
  },
  {
   "cell_type": "markdown",
   "metadata": {},
   "source": [
    "## 3. Getting to Know the Data Set\n",
    "\n",
    "In this part I read and examine the 2018 survey data.\n"
   ]
  },
  {
   "cell_type": "code",
   "execution_count": 3,
   "metadata": {
    "collapsed": false,
    "deletable": true,
    "editable": true,
    "scrolled": true
   },
   "outputs": [
    {
     "data": {
      "text/html": [
       "<div>\n",
       "<style scoped>\n",
       "    .dataframe tbody tr th:only-of-type {\n",
       "        vertical-align: middle;\n",
       "    }\n",
       "\n",
       "    .dataframe tbody tr th {\n",
       "        vertical-align: top;\n",
       "    }\n",
       "\n",
       "    .dataframe thead th {\n",
       "        text-align: right;\n",
       "    }\n",
       "</style>\n",
       "<table border=\"1\" class=\"dataframe\">\n",
       "  <thead>\n",
       "    <tr style=\"text-align: right;\">\n",
       "      <th></th>\n",
       "      <th>Hobby</th>\n",
       "      <th>OpenSource</th>\n",
       "      <th>Country</th>\n",
       "      <th>Student</th>\n",
       "      <th>Employment</th>\n",
       "      <th>FormalEducation</th>\n",
       "      <th>UndergradMajor</th>\n",
       "      <th>CompanySize</th>\n",
       "      <th>DevType</th>\n",
       "      <th>YearsCoding</th>\n",
       "      <th>...</th>\n",
       "      <th>Exercise</th>\n",
       "      <th>Gender</th>\n",
       "      <th>SexualOrientation</th>\n",
       "      <th>EducationParents</th>\n",
       "      <th>RaceEthnicity</th>\n",
       "      <th>Age</th>\n",
       "      <th>Dependents</th>\n",
       "      <th>MilitaryUS</th>\n",
       "      <th>SurveyTooLong</th>\n",
       "      <th>SurveyEasy</th>\n",
       "    </tr>\n",
       "    <tr>\n",
       "      <th>Respondent</th>\n",
       "      <th></th>\n",
       "      <th></th>\n",
       "      <th></th>\n",
       "      <th></th>\n",
       "      <th></th>\n",
       "      <th></th>\n",
       "      <th></th>\n",
       "      <th></th>\n",
       "      <th></th>\n",
       "      <th></th>\n",
       "      <th></th>\n",
       "      <th></th>\n",
       "      <th></th>\n",
       "      <th></th>\n",
       "      <th></th>\n",
       "      <th></th>\n",
       "      <th></th>\n",
       "      <th></th>\n",
       "      <th></th>\n",
       "      <th></th>\n",
       "      <th></th>\n",
       "    </tr>\n",
       "  </thead>\n",
       "  <tbody>\n",
       "    <tr>\n",
       "      <th>1</th>\n",
       "      <td>Yes</td>\n",
       "      <td>No</td>\n",
       "      <td>Kenya</td>\n",
       "      <td>No</td>\n",
       "      <td>Employed part-time</td>\n",
       "      <td>Bachelor’s degree (BA, BS, B.Eng., etc.)</td>\n",
       "      <td>Mathematics or statistics</td>\n",
       "      <td>20 to 99 employees</td>\n",
       "      <td>Full-stack developer</td>\n",
       "      <td>3-5 years</td>\n",
       "      <td>...</td>\n",
       "      <td>3 - 4 times per week</td>\n",
       "      <td>Male</td>\n",
       "      <td>Straight or heterosexual</td>\n",
       "      <td>Bachelor’s degree (BA, BS, B.Eng., etc.)</td>\n",
       "      <td>Black or of African descent</td>\n",
       "      <td>25 - 34 years old</td>\n",
       "      <td>Yes</td>\n",
       "      <td>NaN</td>\n",
       "      <td>The survey was an appropriate length</td>\n",
       "      <td>Very easy</td>\n",
       "    </tr>\n",
       "    <tr>\n",
       "      <th>3</th>\n",
       "      <td>Yes</td>\n",
       "      <td>Yes</td>\n",
       "      <td>United Kingdom</td>\n",
       "      <td>No</td>\n",
       "      <td>Employed full-time</td>\n",
       "      <td>Bachelor’s degree (BA, BS, B.Eng., etc.)</td>\n",
       "      <td>A natural science (ex. biology, chemistry, phy...</td>\n",
       "      <td>10,000 or more employees</td>\n",
       "      <td>Database administrator;DevOps specialist;Full-...</td>\n",
       "      <td>30 or more years</td>\n",
       "      <td>...</td>\n",
       "      <td>Daily or almost every day</td>\n",
       "      <td>Male</td>\n",
       "      <td>Straight or heterosexual</td>\n",
       "      <td>Bachelor’s degree (BA, BS, B.Eng., etc.)</td>\n",
       "      <td>White or of European descent</td>\n",
       "      <td>35 - 44 years old</td>\n",
       "      <td>Yes</td>\n",
       "      <td>NaN</td>\n",
       "      <td>The survey was an appropriate length</td>\n",
       "      <td>Somewhat easy</td>\n",
       "    </tr>\n",
       "    <tr>\n",
       "      <th>4</th>\n",
       "      <td>Yes</td>\n",
       "      <td>Yes</td>\n",
       "      <td>United States</td>\n",
       "      <td>No</td>\n",
       "      <td>Employed full-time</td>\n",
       "      <td>Associate degree</td>\n",
       "      <td>Computer science, computer engineering, or sof...</td>\n",
       "      <td>20 to 99 employees</td>\n",
       "      <td>Engineering manager;Full-stack developer</td>\n",
       "      <td>24-26 years</td>\n",
       "      <td>...</td>\n",
       "      <td>NaN</td>\n",
       "      <td>NaN</td>\n",
       "      <td>NaN</td>\n",
       "      <td>NaN</td>\n",
       "      <td>NaN</td>\n",
       "      <td>NaN</td>\n",
       "      <td>NaN</td>\n",
       "      <td>NaN</td>\n",
       "      <td>NaN</td>\n",
       "      <td>NaN</td>\n",
       "    </tr>\n",
       "    <tr>\n",
       "      <th>5</th>\n",
       "      <td>No</td>\n",
       "      <td>No</td>\n",
       "      <td>United States</td>\n",
       "      <td>No</td>\n",
       "      <td>Employed full-time</td>\n",
       "      <td>Bachelor’s degree (BA, BS, B.Eng., etc.)</td>\n",
       "      <td>Computer science, computer engineering, or sof...</td>\n",
       "      <td>100 to 499 employees</td>\n",
       "      <td>Full-stack developer</td>\n",
       "      <td>18-20 years</td>\n",
       "      <td>...</td>\n",
       "      <td>I don't typically exercise</td>\n",
       "      <td>Male</td>\n",
       "      <td>Straight or heterosexual</td>\n",
       "      <td>Some college/university study without earning ...</td>\n",
       "      <td>White or of European descent</td>\n",
       "      <td>35 - 44 years old</td>\n",
       "      <td>No</td>\n",
       "      <td>No</td>\n",
       "      <td>The survey was an appropriate length</td>\n",
       "      <td>Somewhat easy</td>\n",
       "    </tr>\n",
       "    <tr>\n",
       "      <th>7</th>\n",
       "      <td>Yes</td>\n",
       "      <td>No</td>\n",
       "      <td>South Africa</td>\n",
       "      <td>Yes, part-time</td>\n",
       "      <td>Employed full-time</td>\n",
       "      <td>Some college/university study without earning ...</td>\n",
       "      <td>Computer science, computer engineering, or sof...</td>\n",
       "      <td>10,000 or more employees</td>\n",
       "      <td>Data or business analyst;Desktop or enterprise...</td>\n",
       "      <td>6-8 years</td>\n",
       "      <td>...</td>\n",
       "      <td>3 - 4 times per week</td>\n",
       "      <td>Male</td>\n",
       "      <td>Straight or heterosexual</td>\n",
       "      <td>Some college/university study without earning ...</td>\n",
       "      <td>White or of European descent</td>\n",
       "      <td>18 - 24 years old</td>\n",
       "      <td>Yes</td>\n",
       "      <td>NaN</td>\n",
       "      <td>The survey was an appropriate length</td>\n",
       "      <td>Somewhat easy</td>\n",
       "    </tr>\n",
       "  </tbody>\n",
       "</table>\n",
       "<p>5 rows × 128 columns</p>\n",
       "</div>"
      ],
      "text/plain": [
       "           Hobby OpenSource         Country         Student  \\\n",
       "Respondent                                                    \n",
       "1            Yes         No           Kenya              No   \n",
       "3            Yes        Yes  United Kingdom              No   \n",
       "4            Yes        Yes   United States              No   \n",
       "5             No         No   United States              No   \n",
       "7            Yes         No    South Africa  Yes, part-time   \n",
       "\n",
       "                    Employment  \\\n",
       "Respondent                       \n",
       "1           Employed part-time   \n",
       "3           Employed full-time   \n",
       "4           Employed full-time   \n",
       "5           Employed full-time   \n",
       "7           Employed full-time   \n",
       "\n",
       "                                              FormalEducation  \\\n",
       "Respondent                                                      \n",
       "1                    Bachelor’s degree (BA, BS, B.Eng., etc.)   \n",
       "3                    Bachelor’s degree (BA, BS, B.Eng., etc.)   \n",
       "4                                            Associate degree   \n",
       "5                    Bachelor’s degree (BA, BS, B.Eng., etc.)   \n",
       "7           Some college/university study without earning ...   \n",
       "\n",
       "                                               UndergradMajor  \\\n",
       "Respondent                                                      \n",
       "1                                   Mathematics or statistics   \n",
       "3           A natural science (ex. biology, chemistry, phy...   \n",
       "4           Computer science, computer engineering, or sof...   \n",
       "5           Computer science, computer engineering, or sof...   \n",
       "7           Computer science, computer engineering, or sof...   \n",
       "\n",
       "                         CompanySize  \\\n",
       "Respondent                             \n",
       "1                 20 to 99 employees   \n",
       "3           10,000 or more employees   \n",
       "4                 20 to 99 employees   \n",
       "5               100 to 499 employees   \n",
       "7           10,000 or more employees   \n",
       "\n",
       "                                                      DevType  \\\n",
       "Respondent                                                      \n",
       "1                                        Full-stack developer   \n",
       "3           Database administrator;DevOps specialist;Full-...   \n",
       "4                    Engineering manager;Full-stack developer   \n",
       "5                                        Full-stack developer   \n",
       "7           Data or business analyst;Desktop or enterprise...   \n",
       "\n",
       "                 YearsCoding      ...                          Exercise  \\\n",
       "Respondent                        ...                                     \n",
       "1                  3-5 years      ...              3 - 4 times per week   \n",
       "3           30 or more years      ...         Daily or almost every day   \n",
       "4                24-26 years      ...                               NaN   \n",
       "5                18-20 years      ...        I don't typically exercise   \n",
       "7                  6-8 years      ...              3 - 4 times per week   \n",
       "\n",
       "           Gender         SexualOrientation  \\\n",
       "Respondent                                    \n",
       "1            Male  Straight or heterosexual   \n",
       "3            Male  Straight or heterosexual   \n",
       "4             NaN                       NaN   \n",
       "5            Male  Straight or heterosexual   \n",
       "7            Male  Straight or heterosexual   \n",
       "\n",
       "                                             EducationParents  \\\n",
       "Respondent                                                      \n",
       "1                    Bachelor’s degree (BA, BS, B.Eng., etc.)   \n",
       "3                    Bachelor’s degree (BA, BS, B.Eng., etc.)   \n",
       "4                                                         NaN   \n",
       "5           Some college/university study without earning ...   \n",
       "7           Some college/university study without earning ...   \n",
       "\n",
       "                           RaceEthnicity                Age  Dependents  \\\n",
       "Respondent                                                                \n",
       "1            Black or of African descent  25 - 34 years old         Yes   \n",
       "3           White or of European descent  35 - 44 years old         Yes   \n",
       "4                                    NaN                NaN         NaN   \n",
       "5           White or of European descent  35 - 44 years old          No   \n",
       "7           White or of European descent  18 - 24 years old         Yes   \n",
       "\n",
       "            MilitaryUS                         SurveyTooLong     SurveyEasy  \n",
       "Respondent                                                                   \n",
       "1                  NaN  The survey was an appropriate length      Very easy  \n",
       "3                  NaN  The survey was an appropriate length  Somewhat easy  \n",
       "4                  NaN                                   NaN            NaN  \n",
       "5                   No  The survey was an appropriate length  Somewhat easy  \n",
       "7                  NaN  The survey was an appropriate length  Somewhat easy  \n",
       "\n",
       "[5 rows x 128 columns]"
      ]
     },
     "execution_count": 3,
     "metadata": {},
     "output_type": "execute_result"
    }
   ],
   "source": [
    "df = pd.read_csv('survey_results_public2018.csv', index_col='Respondent', low_memory=False)\n",
    "df.head(5)"
   ]
  },
  {
   "cell_type": "code",
   "execution_count": 4,
   "metadata": {
    "collapsed": false,
    "deletable": true,
    "editable": true
   },
   "outputs": [
    {
     "data": {
      "text/plain": [
       "(98855, 128)"
      ]
     },
     "execution_count": 4,
     "metadata": {},
     "output_type": "execute_result"
    }
   ],
   "source": [
    "df.shape"
   ]
  },
  {
   "cell_type": "markdown",
   "metadata": {},
   "source": [
    "The dataset has 98,855 survey reports and 128 columns (questions to respondents)."
   ]
  },
  {
   "cell_type": "code",
   "execution_count": 5,
   "metadata": {
    "collapsed": false
   },
   "outputs": [
    {
     "name": "stdout",
     "output_type": "stream",
     "text": [
      "<class 'pandas.core.frame.DataFrame'>\n",
      "Int64Index: 98855 entries, 1 to 101548\n",
      "Columns: 128 entries, Hobby to SurveyEasy\n",
      "dtypes: float64(41), object(87)\n",
      "memory usage: 97.3+ MB\n"
     ]
    }
   ],
   "source": [
    "df.info()"
   ]
  },
  {
   "cell_type": "markdown",
   "metadata": {},
   "source": [
    "41 of the 128 columns hold numerical data, while the rest (87) are categorical."
   ]
  },
  {
   "cell_type": "code",
   "execution_count": 6,
   "metadata": {
    "collapsed": false
   },
   "outputs": [
    {
     "data": {
      "text/html": [
       "<div>\n",
       "<style scoped>\n",
       "    .dataframe tbody tr th:only-of-type {\n",
       "        vertical-align: middle;\n",
       "    }\n",
       "\n",
       "    .dataframe tbody tr th {\n",
       "        vertical-align: top;\n",
       "    }\n",
       "\n",
       "    .dataframe thead th {\n",
       "        text-align: right;\n",
       "    }\n",
       "</style>\n",
       "<table border=\"1\" class=\"dataframe\">\n",
       "  <thead>\n",
       "    <tr style=\"text-align: right;\">\n",
       "      <th></th>\n",
       "      <th>AssessJob1</th>\n",
       "      <th>AssessJob2</th>\n",
       "      <th>AssessJob3</th>\n",
       "      <th>AssessJob4</th>\n",
       "      <th>AssessJob5</th>\n",
       "      <th>AssessJob6</th>\n",
       "      <th>AssessJob7</th>\n",
       "      <th>AssessJob8</th>\n",
       "      <th>AssessJob9</th>\n",
       "      <th>AssessJob10</th>\n",
       "      <th>...</th>\n",
       "      <th>JobEmailPriorities6</th>\n",
       "      <th>JobEmailPriorities7</th>\n",
       "      <th>ConvertedSalary</th>\n",
       "      <th>AdsPriorities1</th>\n",
       "      <th>AdsPriorities2</th>\n",
       "      <th>AdsPriorities3</th>\n",
       "      <th>AdsPriorities4</th>\n",
       "      <th>AdsPriorities5</th>\n",
       "      <th>AdsPriorities6</th>\n",
       "      <th>AdsPriorities7</th>\n",
       "    </tr>\n",
       "  </thead>\n",
       "  <tbody>\n",
       "    <tr>\n",
       "      <th>count</th>\n",
       "      <td>66985.000000</td>\n",
       "      <td>66985.000000</td>\n",
       "      <td>66985.000000</td>\n",
       "      <td>66985.000000</td>\n",
       "      <td>66985.000000</td>\n",
       "      <td>66985.000000</td>\n",
       "      <td>66985.000000</td>\n",
       "      <td>66985.000000</td>\n",
       "      <td>66985.000000</td>\n",
       "      <td>66985.000000</td>\n",
       "      <td>...</td>\n",
       "      <td>46213.00000</td>\n",
       "      <td>46213.000000</td>\n",
       "      <td>4.770200e+04</td>\n",
       "      <td>60479.000000</td>\n",
       "      <td>60479.000000</td>\n",
       "      <td>60479.000000</td>\n",
       "      <td>60479.000000</td>\n",
       "      <td>60479.000000</td>\n",
       "      <td>60479.000000</td>\n",
       "      <td>60479.000000</td>\n",
       "    </tr>\n",
       "    <tr>\n",
       "      <th>mean</th>\n",
       "      <td>6.397089</td>\n",
       "      <td>6.673524</td>\n",
       "      <td>5.906875</td>\n",
       "      <td>4.065791</td>\n",
       "      <td>3.953243</td>\n",
       "      <td>4.407196</td>\n",
       "      <td>5.673181</td>\n",
       "      <td>4.225200</td>\n",
       "      <td>7.640009</td>\n",
       "      <td>6.057804</td>\n",
       "      <td>...</td>\n",
       "      <td>4.97425</td>\n",
       "      <td>4.836388</td>\n",
       "      <td>9.578086e+04</td>\n",
       "      <td>2.726880</td>\n",
       "      <td>3.805784</td>\n",
       "      <td>3.340945</td>\n",
       "      <td>3.782470</td>\n",
       "      <td>4.383604</td>\n",
       "      <td>5.138809</td>\n",
       "      <td>4.821459</td>\n",
       "    </tr>\n",
       "    <tr>\n",
       "      <th>std</th>\n",
       "      <td>2.788428</td>\n",
       "      <td>2.531202</td>\n",
       "      <td>2.642734</td>\n",
       "      <td>2.541196</td>\n",
       "      <td>2.520499</td>\n",
       "      <td>2.502069</td>\n",
       "      <td>2.923998</td>\n",
       "      <td>2.507411</td>\n",
       "      <td>2.407457</td>\n",
       "      <td>2.663405</td>\n",
       "      <td>...</td>\n",
       "      <td>1.86063</td>\n",
       "      <td>1.659844</td>\n",
       "      <td>2.023482e+05</td>\n",
       "      <td>1.881078</td>\n",
       "      <td>1.821323</td>\n",
       "      <td>1.673485</td>\n",
       "      <td>1.844864</td>\n",
       "      <td>1.931746</td>\n",
       "      <td>1.853249</td>\n",
       "      <td>1.874895</td>\n",
       "    </tr>\n",
       "    <tr>\n",
       "      <th>min</th>\n",
       "      <td>1.000000</td>\n",
       "      <td>1.000000</td>\n",
       "      <td>1.000000</td>\n",
       "      <td>1.000000</td>\n",
       "      <td>1.000000</td>\n",
       "      <td>1.000000</td>\n",
       "      <td>1.000000</td>\n",
       "      <td>1.000000</td>\n",
       "      <td>1.000000</td>\n",
       "      <td>1.000000</td>\n",
       "      <td>...</td>\n",
       "      <td>1.00000</td>\n",
       "      <td>1.000000</td>\n",
       "      <td>0.000000e+00</td>\n",
       "      <td>1.000000</td>\n",
       "      <td>1.000000</td>\n",
       "      <td>1.000000</td>\n",
       "      <td>1.000000</td>\n",
       "      <td>1.000000</td>\n",
       "      <td>1.000000</td>\n",
       "      <td>1.000000</td>\n",
       "    </tr>\n",
       "    <tr>\n",
       "      <th>25%</th>\n",
       "      <td>4.000000</td>\n",
       "      <td>5.000000</td>\n",
       "      <td>4.000000</td>\n",
       "      <td>2.000000</td>\n",
       "      <td>2.000000</td>\n",
       "      <td>2.000000</td>\n",
       "      <td>3.000000</td>\n",
       "      <td>2.000000</td>\n",
       "      <td>6.000000</td>\n",
       "      <td>4.000000</td>\n",
       "      <td>...</td>\n",
       "      <td>4.00000</td>\n",
       "      <td>4.000000</td>\n",
       "      <td>2.384400e+04</td>\n",
       "      <td>1.000000</td>\n",
       "      <td>2.000000</td>\n",
       "      <td>2.000000</td>\n",
       "      <td>2.000000</td>\n",
       "      <td>3.000000</td>\n",
       "      <td>4.000000</td>\n",
       "      <td>3.000000</td>\n",
       "    </tr>\n",
       "    <tr>\n",
       "      <th>50%</th>\n",
       "      <td>7.000000</td>\n",
       "      <td>7.000000</td>\n",
       "      <td>6.000000</td>\n",
       "      <td>4.000000</td>\n",
       "      <td>3.000000</td>\n",
       "      <td>4.000000</td>\n",
       "      <td>6.000000</td>\n",
       "      <td>4.000000</td>\n",
       "      <td>8.000000</td>\n",
       "      <td>6.000000</td>\n",
       "      <td>...</td>\n",
       "      <td>5.00000</td>\n",
       "      <td>5.000000</td>\n",
       "      <td>5.507500e+04</td>\n",
       "      <td>2.000000</td>\n",
       "      <td>4.000000</td>\n",
       "      <td>3.000000</td>\n",
       "      <td>4.000000</td>\n",
       "      <td>5.000000</td>\n",
       "      <td>6.000000</td>\n",
       "      <td>5.000000</td>\n",
       "    </tr>\n",
       "    <tr>\n",
       "      <th>75%</th>\n",
       "      <td>9.000000</td>\n",
       "      <td>9.000000</td>\n",
       "      <td>8.000000</td>\n",
       "      <td>6.000000</td>\n",
       "      <td>6.000000</td>\n",
       "      <td>6.000000</td>\n",
       "      <td>8.000000</td>\n",
       "      <td>6.000000</td>\n",
       "      <td>10.000000</td>\n",
       "      <td>8.000000</td>\n",
       "      <td>...</td>\n",
       "      <td>7.00000</td>\n",
       "      <td>6.000000</td>\n",
       "      <td>9.300000e+04</td>\n",
       "      <td>4.000000</td>\n",
       "      <td>5.000000</td>\n",
       "      <td>5.000000</td>\n",
       "      <td>5.000000</td>\n",
       "      <td>6.000000</td>\n",
       "      <td>7.000000</td>\n",
       "      <td>7.000000</td>\n",
       "    </tr>\n",
       "    <tr>\n",
       "      <th>max</th>\n",
       "      <td>10.000000</td>\n",
       "      <td>10.000000</td>\n",
       "      <td>10.000000</td>\n",
       "      <td>10.000000</td>\n",
       "      <td>10.000000</td>\n",
       "      <td>10.000000</td>\n",
       "      <td>10.000000</td>\n",
       "      <td>10.000000</td>\n",
       "      <td>10.000000</td>\n",
       "      <td>10.000000</td>\n",
       "      <td>...</td>\n",
       "      <td>7.00000</td>\n",
       "      <td>7.000000</td>\n",
       "      <td>2.000000e+06</td>\n",
       "      <td>7.000000</td>\n",
       "      <td>7.000000</td>\n",
       "      <td>7.000000</td>\n",
       "      <td>7.000000</td>\n",
       "      <td>7.000000</td>\n",
       "      <td>7.000000</td>\n",
       "      <td>7.000000</td>\n",
       "    </tr>\n",
       "  </tbody>\n",
       "</table>\n",
       "<p>8 rows × 41 columns</p>\n",
       "</div>"
      ],
      "text/plain": [
       "         AssessJob1    AssessJob2    AssessJob3    AssessJob4    AssessJob5  \\\n",
       "count  66985.000000  66985.000000  66985.000000  66985.000000  66985.000000   \n",
       "mean       6.397089      6.673524      5.906875      4.065791      3.953243   \n",
       "std        2.788428      2.531202      2.642734      2.541196      2.520499   \n",
       "min        1.000000      1.000000      1.000000      1.000000      1.000000   \n",
       "25%        4.000000      5.000000      4.000000      2.000000      2.000000   \n",
       "50%        7.000000      7.000000      6.000000      4.000000      3.000000   \n",
       "75%        9.000000      9.000000      8.000000      6.000000      6.000000   \n",
       "max       10.000000     10.000000     10.000000     10.000000     10.000000   \n",
       "\n",
       "         AssessJob6    AssessJob7    AssessJob8    AssessJob9   AssessJob10  \\\n",
       "count  66985.000000  66985.000000  66985.000000  66985.000000  66985.000000   \n",
       "mean       4.407196      5.673181      4.225200      7.640009      6.057804   \n",
       "std        2.502069      2.923998      2.507411      2.407457      2.663405   \n",
       "min        1.000000      1.000000      1.000000      1.000000      1.000000   \n",
       "25%        2.000000      3.000000      2.000000      6.000000      4.000000   \n",
       "50%        4.000000      6.000000      4.000000      8.000000      6.000000   \n",
       "75%        6.000000      8.000000      6.000000     10.000000      8.000000   \n",
       "max       10.000000     10.000000     10.000000     10.000000     10.000000   \n",
       "\n",
       "            ...        JobEmailPriorities6  JobEmailPriorities7  \\\n",
       "count       ...                46213.00000         46213.000000   \n",
       "mean        ...                    4.97425             4.836388   \n",
       "std         ...                    1.86063             1.659844   \n",
       "min         ...                    1.00000             1.000000   \n",
       "25%         ...                    4.00000             4.000000   \n",
       "50%         ...                    5.00000             5.000000   \n",
       "75%         ...                    7.00000             6.000000   \n",
       "max         ...                    7.00000             7.000000   \n",
       "\n",
       "       ConvertedSalary  AdsPriorities1  AdsPriorities2  AdsPriorities3  \\\n",
       "count     4.770200e+04    60479.000000    60479.000000    60479.000000   \n",
       "mean      9.578086e+04        2.726880        3.805784        3.340945   \n",
       "std       2.023482e+05        1.881078        1.821323        1.673485   \n",
       "min       0.000000e+00        1.000000        1.000000        1.000000   \n",
       "25%       2.384400e+04        1.000000        2.000000        2.000000   \n",
       "50%       5.507500e+04        2.000000        4.000000        3.000000   \n",
       "75%       9.300000e+04        4.000000        5.000000        5.000000   \n",
       "max       2.000000e+06        7.000000        7.000000        7.000000   \n",
       "\n",
       "       AdsPriorities4  AdsPriorities5  AdsPriorities6  AdsPriorities7  \n",
       "count    60479.000000    60479.000000    60479.000000    60479.000000  \n",
       "mean         3.782470        4.383604        5.138809        4.821459  \n",
       "std          1.844864        1.931746        1.853249        1.874895  \n",
       "min          1.000000        1.000000        1.000000        1.000000  \n",
       "25%          2.000000        3.000000        4.000000        3.000000  \n",
       "50%          4.000000        5.000000        6.000000        5.000000  \n",
       "75%          5.000000        6.000000        7.000000        7.000000  \n",
       "max          7.000000        7.000000        7.000000        7.000000  \n",
       "\n",
       "[8 rows x 41 columns]"
      ]
     },
     "execution_count": 6,
     "metadata": {},
     "output_type": "execute_result"
    }
   ],
   "source": [
    "df.describe()"
   ]
  },
  {
   "cell_type": "markdown",
   "metadata": {
    "collapsed": false,
    "deletable": true,
    "editable": true,
    "scrolled": true
   },
   "source": [
    "Let's take a look at how many missing values we have and how many unique values/labels we find in each column."
   ]
  },
  {
   "cell_type": "code",
   "execution_count": 7,
   "metadata": {
    "collapsed": false,
    "deletable": true,
    "editable": true
   },
   "outputs": [
    {
     "data": {
      "text/html": [
       "<div>\n",
       "<style scoped>\n",
       "    .dataframe tbody tr th:only-of-type {\n",
       "        vertical-align: middle;\n",
       "    }\n",
       "\n",
       "    .dataframe tbody tr th {\n",
       "        vertical-align: top;\n",
       "    }\n",
       "\n",
       "    .dataframe thead th {\n",
       "        text-align: right;\n",
       "    }\n",
       "</style>\n",
       "<table border=\"1\" class=\"dataframe\">\n",
       "  <thead>\n",
       "    <tr style=\"text-align: right;\">\n",
       "      <th></th>\n",
       "      <th>Feature</th>\n",
       "      <th>NaNs</th>\n",
       "      <th>Unique</th>\n",
       "    </tr>\n",
       "  </thead>\n",
       "  <tbody>\n",
       "    <tr>\n",
       "      <th>0</th>\n",
       "      <td>Hobby</td>\n",
       "      <td>0</td>\n",
       "      <td>2</td>\n",
       "    </tr>\n",
       "    <tr>\n",
       "      <th>1</th>\n",
       "      <td>OpenSource</td>\n",
       "      <td>0</td>\n",
       "      <td>2</td>\n",
       "    </tr>\n",
       "    <tr>\n",
       "      <th>2</th>\n",
       "      <td>Country</td>\n",
       "      <td>412</td>\n",
       "      <td>183</td>\n",
       "    </tr>\n",
       "    <tr>\n",
       "      <th>3</th>\n",
       "      <td>Student</td>\n",
       "      <td>3954</td>\n",
       "      <td>3</td>\n",
       "    </tr>\n",
       "    <tr>\n",
       "      <th>4</th>\n",
       "      <td>Employment</td>\n",
       "      <td>3534</td>\n",
       "      <td>6</td>\n",
       "    </tr>\n",
       "    <tr>\n",
       "      <th>5</th>\n",
       "      <td>FormalEducation</td>\n",
       "      <td>4152</td>\n",
       "      <td>9</td>\n",
       "    </tr>\n",
       "    <tr>\n",
       "      <th>6</th>\n",
       "      <td>UndergradMajor</td>\n",
       "      <td>19819</td>\n",
       "      <td>12</td>\n",
       "    </tr>\n",
       "    <tr>\n",
       "      <th>7</th>\n",
       "      <td>CompanySize</td>\n",
       "      <td>27324</td>\n",
       "      <td>8</td>\n",
       "    </tr>\n",
       "    <tr>\n",
       "      <th>8</th>\n",
       "      <td>DevType</td>\n",
       "      <td>6757</td>\n",
       "      <td>9568</td>\n",
       "    </tr>\n",
       "    <tr>\n",
       "      <th>9</th>\n",
       "      <td>YearsCoding</td>\n",
       "      <td>5020</td>\n",
       "      <td>11</td>\n",
       "    </tr>\n",
       "    <tr>\n",
       "      <th>10</th>\n",
       "      <td>YearsCodingProf</td>\n",
       "      <td>20952</td>\n",
       "      <td>11</td>\n",
       "    </tr>\n",
       "    <tr>\n",
       "      <th>11</th>\n",
       "      <td>JobSatisfaction</td>\n",
       "      <td>29579</td>\n",
       "      <td>7</td>\n",
       "    </tr>\n",
       "    <tr>\n",
       "      <th>12</th>\n",
       "      <td>CareerSatisfaction</td>\n",
       "      <td>22351</td>\n",
       "      <td>7</td>\n",
       "    </tr>\n",
       "    <tr>\n",
       "      <th>13</th>\n",
       "      <td>HopeFiveYears</td>\n",
       "      <td>23137</td>\n",
       "      <td>7</td>\n",
       "    </tr>\n",
       "    <tr>\n",
       "      <th>14</th>\n",
       "      <td>JobSearchStatus</td>\n",
       "      <td>19367</td>\n",
       "      <td>3</td>\n",
       "    </tr>\n",
       "    <tr>\n",
       "      <th>15</th>\n",
       "      <td>LastNewJob</td>\n",
       "      <td>19966</td>\n",
       "      <td>5</td>\n",
       "    </tr>\n",
       "    <tr>\n",
       "      <th>16</th>\n",
       "      <td>AssessJob1</td>\n",
       "      <td>31870</td>\n",
       "      <td>10</td>\n",
       "    </tr>\n",
       "    <tr>\n",
       "      <th>17</th>\n",
       "      <td>AssessJob2</td>\n",
       "      <td>31870</td>\n",
       "      <td>10</td>\n",
       "    </tr>\n",
       "    <tr>\n",
       "      <th>18</th>\n",
       "      <td>AssessJob3</td>\n",
       "      <td>31870</td>\n",
       "      <td>10</td>\n",
       "    </tr>\n",
       "    <tr>\n",
       "      <th>19</th>\n",
       "      <td>AssessJob4</td>\n",
       "      <td>31870</td>\n",
       "      <td>10</td>\n",
       "    </tr>\n",
       "    <tr>\n",
       "      <th>20</th>\n",
       "      <td>AssessJob5</td>\n",
       "      <td>31870</td>\n",
       "      <td>10</td>\n",
       "    </tr>\n",
       "    <tr>\n",
       "      <th>21</th>\n",
       "      <td>AssessJob6</td>\n",
       "      <td>31870</td>\n",
       "      <td>10</td>\n",
       "    </tr>\n",
       "    <tr>\n",
       "      <th>22</th>\n",
       "      <td>AssessJob7</td>\n",
       "      <td>31870</td>\n",
       "      <td>10</td>\n",
       "    </tr>\n",
       "    <tr>\n",
       "      <th>23</th>\n",
       "      <td>AssessJob8</td>\n",
       "      <td>31870</td>\n",
       "      <td>10</td>\n",
       "    </tr>\n",
       "    <tr>\n",
       "      <th>24</th>\n",
       "      <td>AssessJob9</td>\n",
       "      <td>31870</td>\n",
       "      <td>10</td>\n",
       "    </tr>\n",
       "    <tr>\n",
       "      <th>25</th>\n",
       "      <td>AssessJob10</td>\n",
       "      <td>31870</td>\n",
       "      <td>10</td>\n",
       "    </tr>\n",
       "    <tr>\n",
       "      <th>26</th>\n",
       "      <td>AssessBenefits1</td>\n",
       "      <td>33937</td>\n",
       "      <td>11</td>\n",
       "    </tr>\n",
       "    <tr>\n",
       "      <th>27</th>\n",
       "      <td>AssessBenefits2</td>\n",
       "      <td>33937</td>\n",
       "      <td>11</td>\n",
       "    </tr>\n",
       "    <tr>\n",
       "      <th>28</th>\n",
       "      <td>AssessBenefits3</td>\n",
       "      <td>33937</td>\n",
       "      <td>11</td>\n",
       "    </tr>\n",
       "    <tr>\n",
       "      <th>29</th>\n",
       "      <td>AssessBenefits4</td>\n",
       "      <td>33937</td>\n",
       "      <td>11</td>\n",
       "    </tr>\n",
       "    <tr>\n",
       "      <th>...</th>\n",
       "      <td>...</td>\n",
       "      <td>...</td>\n",
       "      <td>...</td>\n",
       "    </tr>\n",
       "    <tr>\n",
       "      <th>98</th>\n",
       "      <td>EthicsResponsible</td>\n",
       "      <td>34315</td>\n",
       "      <td>3</td>\n",
       "    </tr>\n",
       "    <tr>\n",
       "      <th>99</th>\n",
       "      <td>EthicalImplications</td>\n",
       "      <td>29546</td>\n",
       "      <td>3</td>\n",
       "    </tr>\n",
       "    <tr>\n",
       "      <th>100</th>\n",
       "      <td>StackOverflowRecommend</td>\n",
       "      <td>22366</td>\n",
       "      <td>11</td>\n",
       "    </tr>\n",
       "    <tr>\n",
       "      <th>101</th>\n",
       "      <td>StackOverflowVisit</td>\n",
       "      <td>22044</td>\n",
       "      <td>6</td>\n",
       "    </tr>\n",
       "    <tr>\n",
       "      <th>102</th>\n",
       "      <td>StackOverflowHasAccount</td>\n",
       "      <td>22064</td>\n",
       "      <td>3</td>\n",
       "    </tr>\n",
       "    <tr>\n",
       "      <th>103</th>\n",
       "      <td>StackOverflowParticipate</td>\n",
       "      <td>33115</td>\n",
       "      <td>6</td>\n",
       "    </tr>\n",
       "    <tr>\n",
       "      <th>104</th>\n",
       "      <td>StackOverflowJobs</td>\n",
       "      <td>23558</td>\n",
       "      <td>3</td>\n",
       "    </tr>\n",
       "    <tr>\n",
       "      <th>105</th>\n",
       "      <td>StackOverflowDevStory</td>\n",
       "      <td>33178</td>\n",
       "      <td>4</td>\n",
       "    </tr>\n",
       "    <tr>\n",
       "      <th>106</th>\n",
       "      <td>StackOverflowJobsRecommend</td>\n",
       "      <td>60538</td>\n",
       "      <td>11</td>\n",
       "    </tr>\n",
       "    <tr>\n",
       "      <th>107</th>\n",
       "      <td>StackOverflowConsiderMember</td>\n",
       "      <td>22848</td>\n",
       "      <td>3</td>\n",
       "    </tr>\n",
       "    <tr>\n",
       "      <th>108</th>\n",
       "      <td>HypotheticalTools1</td>\n",
       "      <td>28787</td>\n",
       "      <td>5</td>\n",
       "    </tr>\n",
       "    <tr>\n",
       "      <th>109</th>\n",
       "      <td>HypotheticalTools2</td>\n",
       "      <td>28803</td>\n",
       "      <td>5</td>\n",
       "    </tr>\n",
       "    <tr>\n",
       "      <th>110</th>\n",
       "      <td>HypotheticalTools3</td>\n",
       "      <td>28856</td>\n",
       "      <td>5</td>\n",
       "    </tr>\n",
       "    <tr>\n",
       "      <th>111</th>\n",
       "      <td>HypotheticalTools4</td>\n",
       "      <td>28869</td>\n",
       "      <td>5</td>\n",
       "    </tr>\n",
       "    <tr>\n",
       "      <th>112</th>\n",
       "      <td>HypotheticalTools5</td>\n",
       "      <td>28810</td>\n",
       "      <td>5</td>\n",
       "    </tr>\n",
       "    <tr>\n",
       "      <th>113</th>\n",
       "      <td>WakeTime</td>\n",
       "      <td>26709</td>\n",
       "      <td>11</td>\n",
       "    </tr>\n",
       "    <tr>\n",
       "      <th>114</th>\n",
       "      <td>HoursComputer</td>\n",
       "      <td>26722</td>\n",
       "      <td>5</td>\n",
       "    </tr>\n",
       "    <tr>\n",
       "      <th>115</th>\n",
       "      <td>HoursOutside</td>\n",
       "      <td>26831</td>\n",
       "      <td>5</td>\n",
       "    </tr>\n",
       "    <tr>\n",
       "      <th>116</th>\n",
       "      <td>SkipMeals</td>\n",
       "      <td>26909</td>\n",
       "      <td>4</td>\n",
       "    </tr>\n",
       "    <tr>\n",
       "      <th>117</th>\n",
       "      <td>ErgonomicDevices</td>\n",
       "      <td>64797</td>\n",
       "      <td>15</td>\n",
       "    </tr>\n",
       "    <tr>\n",
       "      <th>118</th>\n",
       "      <td>Exercise</td>\n",
       "      <td>26747</td>\n",
       "      <td>4</td>\n",
       "    </tr>\n",
       "    <tr>\n",
       "      <th>119</th>\n",
       "      <td>Gender</td>\n",
       "      <td>34386</td>\n",
       "      <td>15</td>\n",
       "    </tr>\n",
       "    <tr>\n",
       "      <th>120</th>\n",
       "      <td>SexualOrientation</td>\n",
       "      <td>39090</td>\n",
       "      <td>14</td>\n",
       "    </tr>\n",
       "    <tr>\n",
       "      <th>121</th>\n",
       "      <td>EducationParents</td>\n",
       "      <td>37042</td>\n",
       "      <td>9</td>\n",
       "    </tr>\n",
       "    <tr>\n",
       "      <th>122</th>\n",
       "      <td>RaceEthnicity</td>\n",
       "      <td>41382</td>\n",
       "      <td>71</td>\n",
       "    </tr>\n",
       "    <tr>\n",
       "      <th>123</th>\n",
       "      <td>Age</td>\n",
       "      <td>34281</td>\n",
       "      <td>7</td>\n",
       "    </tr>\n",
       "    <tr>\n",
       "      <th>124</th>\n",
       "      <td>Dependents</td>\n",
       "      <td>36259</td>\n",
       "      <td>2</td>\n",
       "    </tr>\n",
       "    <tr>\n",
       "      <th>125</th>\n",
       "      <td>MilitaryUS</td>\n",
       "      <td>83074</td>\n",
       "      <td>2</td>\n",
       "    </tr>\n",
       "    <tr>\n",
       "      <th>126</th>\n",
       "      <td>SurveyTooLong</td>\n",
       "      <td>32914</td>\n",
       "      <td>3</td>\n",
       "    </tr>\n",
       "    <tr>\n",
       "      <th>127</th>\n",
       "      <td>SurveyEasy</td>\n",
       "      <td>32976</td>\n",
       "      <td>5</td>\n",
       "    </tr>\n",
       "  </tbody>\n",
       "</table>\n",
       "<p>128 rows × 3 columns</p>\n",
       "</div>"
      ],
      "text/plain": [
       "                         Feature   NaNs  Unique\n",
       "0                          Hobby      0       2\n",
       "1                     OpenSource      0       2\n",
       "2                        Country    412     183\n",
       "3                        Student   3954       3\n",
       "4                     Employment   3534       6\n",
       "5                FormalEducation   4152       9\n",
       "6                 UndergradMajor  19819      12\n",
       "7                    CompanySize  27324       8\n",
       "8                        DevType   6757    9568\n",
       "9                    YearsCoding   5020      11\n",
       "10               YearsCodingProf  20952      11\n",
       "11               JobSatisfaction  29579       7\n",
       "12            CareerSatisfaction  22351       7\n",
       "13                 HopeFiveYears  23137       7\n",
       "14               JobSearchStatus  19367       3\n",
       "15                    LastNewJob  19966       5\n",
       "16                    AssessJob1  31870      10\n",
       "17                    AssessJob2  31870      10\n",
       "18                    AssessJob3  31870      10\n",
       "19                    AssessJob4  31870      10\n",
       "20                    AssessJob5  31870      10\n",
       "21                    AssessJob6  31870      10\n",
       "22                    AssessJob7  31870      10\n",
       "23                    AssessJob8  31870      10\n",
       "24                    AssessJob9  31870      10\n",
       "25                   AssessJob10  31870      10\n",
       "26               AssessBenefits1  33937      11\n",
       "27               AssessBenefits2  33937      11\n",
       "28               AssessBenefits3  33937      11\n",
       "29               AssessBenefits4  33937      11\n",
       "..                           ...    ...     ...\n",
       "98             EthicsResponsible  34315       3\n",
       "99           EthicalImplications  29546       3\n",
       "100       StackOverflowRecommend  22366      11\n",
       "101           StackOverflowVisit  22044       6\n",
       "102      StackOverflowHasAccount  22064       3\n",
       "103     StackOverflowParticipate  33115       6\n",
       "104            StackOverflowJobs  23558       3\n",
       "105        StackOverflowDevStory  33178       4\n",
       "106   StackOverflowJobsRecommend  60538      11\n",
       "107  StackOverflowConsiderMember  22848       3\n",
       "108           HypotheticalTools1  28787       5\n",
       "109           HypotheticalTools2  28803       5\n",
       "110           HypotheticalTools3  28856       5\n",
       "111           HypotheticalTools4  28869       5\n",
       "112           HypotheticalTools5  28810       5\n",
       "113                     WakeTime  26709      11\n",
       "114                HoursComputer  26722       5\n",
       "115                 HoursOutside  26831       5\n",
       "116                    SkipMeals  26909       4\n",
       "117             ErgonomicDevices  64797      15\n",
       "118                     Exercise  26747       4\n",
       "119                       Gender  34386      15\n",
       "120            SexualOrientation  39090      14\n",
       "121             EducationParents  37042       9\n",
       "122                RaceEthnicity  41382      71\n",
       "123                          Age  34281       7\n",
       "124                   Dependents  36259       2\n",
       "125                   MilitaryUS  83074       2\n",
       "126                SurveyTooLong  32914       3\n",
       "127                   SurveyEasy  32976       5\n",
       "\n",
       "[128 rows x 3 columns]"
      ]
     },
     "execution_count": 7,
     "metadata": {},
     "output_type": "execute_result"
    }
   ],
   "source": [
    "overview = pd.DataFrame([(c, df[c].isnull().sum(), df[c].nunique()) for c in df.columns], columns=['Feature', 'NaNs', 'Unique'])\n",
    "overview"
   ]
  },
  {
   "cell_type": "markdown",
   "metadata": {},
   "source": [
    "## 4. Identifying career changers\n",
    "\n",
    "Let's gather information about the age and number of years of professional experience as software developers.\n",
    "\n",
    "Using the function **get_unique_values()** collect the labels for the age and years of experience. Then I save the labels in order, so as I can use it properly for the x asises of the diagrams."
   ]
  },
  {
   "cell_type": "code",
   "execution_count": 8,
   "metadata": {
    "collapsed": false
   },
   "outputs": [
    {
     "data": {
      "text/plain": [
       "{'18 - 24 years old',\n",
       " '25 - 34 years old',\n",
       " '35 - 44 years old',\n",
       " '45 - 54 years old',\n",
       " '55 - 64 years old',\n",
       " '65 years or older',\n",
       " 'Under 18 years old'}"
      ]
     },
     "execution_count": 8,
     "metadata": {},
     "output_type": "execute_result"
    }
   ],
   "source": [
    "get_unique_values(df.Age)"
   ]
  },
  {
   "cell_type": "code",
   "execution_count": 9,
   "metadata": {
    "collapsed": true
   },
   "outputs": [],
   "source": [
    "orderedLabesAge = ['Under 18 years old', '18 - 24 years old', '25 - 34 years old', '35 - 44 years old', \n",
    "                   '45 - 54 years old', '55 - 64 years old', '65 years or older']"
   ]
  },
  {
   "cell_type": "code",
   "execution_count": 10,
   "metadata": {
    "collapsed": false,
    "deletable": true,
    "editable": true
   },
   "outputs": [
    {
     "data": {
      "text/plain": [
       "{'0-2 years',\n",
       " '12-14 years',\n",
       " '15-17 years',\n",
       " '18-20 years',\n",
       " '21-23 years',\n",
       " '24-26 years',\n",
       " '27-29 years',\n",
       " '3-5 years',\n",
       " '30 or more years',\n",
       " '6-8 years',\n",
       " '9-11 years'}"
      ]
     },
     "execution_count": 10,
     "metadata": {},
     "output_type": "execute_result"
    }
   ],
   "source": [
    "get_unique_values(df.YearsCodingProf)"
   ]
  },
  {
   "cell_type": "code",
   "execution_count": 11,
   "metadata": {
    "collapsed": false,
    "deletable": true,
    "editable": true
   },
   "outputs": [],
   "source": [
    "orderedLabesProfYears = ['0-2 years', '3-5 years', '6-8 years', '9-11 years', '12-14 years', '15-17 years', '18-20 years', \n",
    "       '21-23 years', '24-26 years', '27-29 years', '30 or more years']"
   ]
  },
  {
   "cell_type": "markdown",
   "metadata": {},
   "source": [
    "Next, see the distributions by age and years of experience."
   ]
  },
  {
   "cell_type": "code",
   "execution_count": 12,
   "metadata": {
    "collapsed": false
   },
   "outputs": [
    {
     "data": {
      "image/png": "[encoded data removed]",
      "text/plain": [
       "<Figure size 1080x576 with 2 Axes>"
      ]
     },
     "metadata": {},
     "output_type": "display_data"
    }
   ],
   "source": [
    "fig, ax1 = plt.subplots(1,2, figsize=(15,8))\n",
    "g1 = sns.countplot(x=df.Age, order=orderedLabesAge, ax=ax1[0], data=df)\n",
    "g1.set_title('Population by Age Group')\n",
    "g1.set_xlabel('Age Group')\n",
    "g1.set_ylabel('Number of Persons')\n",
    "g1.xaxis.set_ticklabels(orderedLabesAge, rotation=90)\n",
    "g2 = sns.countplot(x=df.YearsCodingProf, order=orderedLabesProfYears, ax=ax1[1], data=df)\n",
    "g2.set_title('Population by the number of years of professional coding experience')\n",
    "g2.set_xlabel('Years of professional coding experience')\n",
    "g2.set_ylabel('Number of Persons')\n",
    "g2.xaxis.set_ticklabels(orderedLabesProfYears, rotation=90)\n",
    "plt.show()"
   ]
  },
  {
   "cell_type": "markdown",
   "metadata": {},
   "source": [
    "### Identifying those, who changed their career and became software developers\n",
    "\n",
    "First I narrow down the respondents to group ages from 35 to 64 years old. From these polulation I subtract those, who have 0 to 5 years of professional coding experience. At the end, we can say, that in the **changers** data frame everybody is a fresh developer but they started their career as non-developers. (This is, because I filtered out younger developers by their age.)\n",
    "We can continue the examination with 1523 respondents."
   ]
  },
  {
   "cell_type": "code",
   "execution_count": 13,
   "metadata": {
    "collapsed": false
   },
   "outputs": [
    {
     "data": {
      "text/plain": [
       "(1523, 128)"
      ]
     },
     "execution_count": 13,
     "metadata": {},
     "output_type": "execute_result"
    }
   ],
   "source": [
    "ageOfInterest = df[df['Age'].isin(['35 - 44 years old', '45 - 54 years old', '55 - 64 years old'])]\n",
    "changers = ageOfInterest[ageOfInterest['YearsCodingProf'].isin(['0-2 years', '3-5 years'])]\n",
    "changers.shape"
   ]
  },
  {
   "cell_type": "markdown",
   "metadata": {},
   "source": [
    "## 5. What type of roles do career changers look for?\n",
    "\n",
    "Who are the career changers, what kind of roles, positions they fill?\n",
    "Let's find the answer from the DevType column. We can see, that one person could select more than one role. To collect all responses first I use the **get_unique_values()** function, then I count the labels with the **count_labels_in_col()** function."
   ]
  },
  {
   "cell_type": "code",
   "execution_count": 14,
   "metadata": {
    "collapsed": false
   },
   "outputs": [
    {
     "data": {
      "text/plain": [
       "array(['Full-stack developer',\n",
       "       'Database administrator;DevOps specialist;Full-stack developer;System administrator',\n",
       "       'Engineering manager;Full-stack developer', ...,\n",
       "       'Back-end developer;Data or business analyst;Data scientist or machine learning specialist;Database administrator;Designer;Desktop or enterprise applications developer;Front-end developer;Mobile developer;Student;System administrator',\n",
       "       'Back-end developer;Designer;Embedded applications or devices developer;Front-end developer;Game or graphics developer',\n",
       "       'C-suite executive (CEO, CTO, etc.);Designer;Front-end developer;Product manager'], dtype=object)"
      ]
     },
     "execution_count": 14,
     "metadata": {},
     "output_type": "execute_result"
    }
   ],
   "source": [
    "df.DevType.unique()"
   ]
  },
  {
   "cell_type": "code",
   "execution_count": 15,
   "metadata": {
    "collapsed": false
   },
   "outputs": [
    {
     "data": {
      "text/plain": [
       "{'Back-end developer',\n",
       " 'C-suite executive (CEO, CTO, etc.)',\n",
       " 'Data or business analyst',\n",
       " 'Data scientist or machine learning specialist',\n",
       " 'Database administrator',\n",
       " 'Designer',\n",
       " 'Desktop or enterprise applications developer',\n",
       " 'DevOps specialist',\n",
       " 'Educator or academic researcher',\n",
       " 'Embedded applications or devices developer',\n",
       " 'Engineering manager',\n",
       " 'Front-end developer',\n",
       " 'Full-stack developer',\n",
       " 'Game or graphics developer',\n",
       " 'Marketing or sales professional',\n",
       " 'Mobile developer',\n",
       " 'Product manager',\n",
       " 'QA or test developer',\n",
       " 'Student',\n",
       " 'System administrator'}"
      ]
     },
     "execution_count": 15,
     "metadata": {},
     "output_type": "execute_result"
    }
   ],
   "source": [
    "devTypes = get_unique_values(df.DevType, delim=';')\n",
    "devTypes"
   ]
  },
  {
   "cell_type": "code",
   "execution_count": 16,
   "metadata": {
    "collapsed": true
   },
   "outputs": [],
   "source": [
    "changersDevType = count_labels_in_col(changers.DevType, delim=';')\n",
    "changersDevType = changersDevType.sort_values('count', ascending=False)"
   ]
  },
  {
   "cell_type": "code",
   "execution_count": 17,
   "metadata": {
    "collapsed": false
   },
   "outputs": [
    {
     "data": {
      "image/png": "[encoded data removed]",
      "text/plain": [
       "<Figure size 720x576 with 1 Axes>"
      ]
     },
     "metadata": {},
     "output_type": "display_data"
    }
   ],
   "source": [
    "fig, ax1 = plt.subplots(figsize=(10,8))\n",
    "g1 = sns.barplot(x='labels', y='count', order=changersDevType['labels'], ax=ax1, data=changersDevType)\n",
    "g1.set_title('Career Changers by Developer Role')\n",
    "g1.set_xlabel('Developer Role')\n",
    "g1.set_ylabel('Number of Persons')\n",
    "g1.xaxis.set_ticklabels(changersDevType['labels'], rotation=90)\n",
    "plt.show()"
   ]
  },
  {
   "cell_type": "markdown",
   "metadata": {},
   "source": [
    "From the diagram we see, that the three most popular roles are:\n",
    "-  Back-end developer\n",
    "-  Full-stack developer\n",
    "-  Front-end developer\n",
    "\n",
    "Let's compare this result to the whole population to see correlation or bias."
   ]
  },
  {
   "cell_type": "code",
   "execution_count": 18,
   "metadata": {
    "collapsed": true
   },
   "outputs": [],
   "source": [
    "allDevType = count_labels_in_col(df.DevType, delim=';')\n",
    "allDevType = allDevType.sort_values('count', ascending=False)"
   ]
  },
  {
   "cell_type": "code",
   "execution_count": 19,
   "metadata": {
    "collapsed": false
   },
   "outputs": [
    {
     "data": {
      "image/png": "[encoded data removed]",
      "text/plain": [
       "<Figure size 1008x504 with 2 Axes>"
      ]
     },
     "metadata": {},
     "output_type": "display_data"
    }
   ],
   "source": [
    "fig, ax1 = plt.subplots(1, 2, figsize=(14,7))\n",
    "g1 = sns.barplot(x=allDevType['labels'], order=changersDevType['labels'], y=allDevType['count'], ax=ax1[0], data=df)\n",
    "g1.set_title('All respondents by Developer Role')\n",
    "g1.set_xlabel('Developer Role')\n",
    "g1.set_ylabel('Number of Persons')\n",
    "g1.xaxis.set_ticklabels(changersDevType['labels'], rotation=90)\n",
    "g2 = sns.barplot(x=changersDevType['labels'], y=changersDevType['count'], ax=ax1[1], data=changers)\n",
    "g2.set_title('Career changers by Developer Role')\n",
    "g2.set_xlabel('Developer Role')\n",
    "g2.set_ylabel('Number of Persons')\n",
    "plt.xticks(rotation=90)\n",
    "plt.show()"
   ]
  },
  {
   "cell_type": "markdown",
   "metadata": {},
   "source": [
    "From the diagrams above we can see two things:\n",
    "1.  Back-end, Full-stack and Front-end developer roles are much popular then the rest in the full datafram as well. That means, those roles are very general and it is not a surprise that lot of career changer checked those too.\n",
    "\n",
    "2.  The distribution of career changers are significantly differ from the whole population's distribution. Let's investigate this further in the next part.\n",
    "\n",
    "I merge **allDevType** and ** changersDevType** data frames and compare the numbers for each role. The highest ration will show those roles, which are mostly preferred by recent career changers."
   ]
  },
  {
   "cell_type": "code",
   "execution_count": 20,
   "metadata": {
    "collapsed": false,
    "deletable": true,
    "editable": true
   },
   "outputs": [
    {
     "data": {
      "text/html": [
       "<div>\n",
       "<style scoped>\n",
       "    .dataframe tbody tr th:only-of-type {\n",
       "        vertical-align: middle;\n",
       "    }\n",
       "\n",
       "    .dataframe tbody tr th {\n",
       "        vertical-align: top;\n",
       "    }\n",
       "\n",
       "    .dataframe thead th {\n",
       "        text-align: right;\n",
       "    }\n",
       "</style>\n",
       "<table border=\"1\" class=\"dataframe\">\n",
       "  <thead>\n",
       "    <tr style=\"text-align: right;\">\n",
       "      <th></th>\n",
       "      <th>labels</th>\n",
       "      <th>count_x</th>\n",
       "      <th>count_y</th>\n",
       "      <th>ratio</th>\n",
       "    </tr>\n",
       "  </thead>\n",
       "  <tbody>\n",
       "    <tr>\n",
       "      <th>0</th>\n",
       "      <td>Back-end developer</td>\n",
       "      <td>53300</td>\n",
       "      <td>691</td>\n",
       "      <td>0.012964</td>\n",
       "    </tr>\n",
       "    <tr>\n",
       "      <th>1</th>\n",
       "      <td>Full-stack developer</td>\n",
       "      <td>44353</td>\n",
       "      <td>633</td>\n",
       "      <td>0.014272</td>\n",
       "    </tr>\n",
       "    <tr>\n",
       "      <th>2</th>\n",
       "      <td>Front-end developer</td>\n",
       "      <td>34822</td>\n",
       "      <td>552</td>\n",
       "      <td>0.015852</td>\n",
       "    </tr>\n",
       "    <tr>\n",
       "      <th>3</th>\n",
       "      <td>Mobile developer</td>\n",
       "      <td>18804</td>\n",
       "      <td>236</td>\n",
       "      <td>0.012551</td>\n",
       "    </tr>\n",
       "  </tbody>\n",
       "</table>\n",
       "</div>"
      ],
      "text/plain": [
       "                 labels  count_x  count_y     ratio\n",
       "0    Back-end developer    53300      691  0.012964\n",
       "1  Full-stack developer    44353      633  0.014272\n",
       "2   Front-end developer    34822      552  0.015852\n",
       "3      Mobile developer    18804      236  0.012551"
      ]
     },
     "execution_count": 20,
     "metadata": {},
     "output_type": "execute_result"
    }
   ],
   "source": [
    "compare = pd.merge(allDevType, changersDevType, on='labels')\n",
    "compare['ratio']=compare['count_y']/compare['count_x']\n",
    "compare.head(4)"
   ]
  },
  {
   "cell_type": "code",
   "execution_count": 21,
   "metadata": {
    "collapsed": false
   },
   "outputs": [
    {
     "data": {
      "image/png": "[encoded data removed]",
      "text/plain": [
       "<Figure size 720x576 with 1 Axes>"
      ]
     },
     "metadata": {},
     "output_type": "display_data"
    }
   ],
   "source": [
    "fig, ax1 = plt.subplots(figsize=(10,8))\n",
    "g1 = sns.barplot(x='labels', y='ratio', order=changersDevType['labels'], ax=ax1, data=compare)\n",
    "g1.set_title('Nr. of Career Changers Compared to the Nr. of All Developers by Role')\n",
    "g1.set_xlabel('Developer Role')\n",
    "g1.set_ylabel('Ratio')\n",
    "g1.xaxis.set_ticklabels(changersDevType['labels'], rotation=90)\n",
    "plt.show()"
   ]
  },
  {
   "cell_type": "markdown",
   "metadata": {},
   "source": [
    "Getting the roles with the five highest ratio:"
   ]
  },
  {
   "cell_type": "code",
   "execution_count": 22,
   "metadata": {
    "collapsed": false
   },
   "outputs": [
    {
     "data": {
      "text/plain": [
       "10                         Data or business analyst\n",
       "19                  Marketing or sales professional\n",
       "17                  Educator or academic researcher\n",
       "11    Data scientist or machine learning specialist\n",
       "12                             QA or test developer\n",
       "Name: labels, dtype: object"
      ]
     },
     "execution_count": 22,
     "metadata": {},
     "output_type": "execute_result"
    }
   ],
   "source": [
    "compare['labels'][compare['ratio'].nlargest(5).index]"
   ]
  },
  {
   "cell_type": "markdown",
   "metadata": {},
   "source": [
    "### Conclusion:\n",
    "\n",
    "Career changers to become software developers preferred the following five roles:\n",
    "\n",
    "1.  Data or business analyst\n",
    "2.  Marketing or sales professional\n",
    "3.  Educator or academic researcher\n",
    "4.  Data scientist or machine learning specialist\n",
    "5.  QA or test developer"
   ]
  },
  {
   "cell_type": "markdown",
   "metadata": {},
   "source": [
    "## 6. How satisfied are career changers with their developer career thus far?\n",
    "\n"
   ]
  },
  {
   "cell_type": "code",
   "execution_count": 23,
   "metadata": {
    "collapsed": false
   },
   "outputs": [
    {
     "data": {
      "text/plain": [
       "{'Extremely dissatisfied',\n",
       " 'Extremely satisfied',\n",
       " 'Moderately dissatisfied',\n",
       " 'Moderately satisfied',\n",
       " 'Neither satisfied nor dissatisfied',\n",
       " 'Slightly dissatisfied',\n",
       " 'Slightly satisfied'}"
      ]
     },
     "execution_count": 23,
     "metadata": {},
     "output_type": "execute_result"
    }
   ],
   "source": [
    "get_unique_values(df.CareerSatisfaction, delim=';')"
   ]
  },
  {
   "cell_type": "code",
   "execution_count": 24,
   "metadata": {
    "collapsed": false
   },
   "outputs": [
    {
     "data": {
      "text/plain": [
       "array(['Moderately satisfied', 'Slightly dissatisfied',\n",
       "       'Extremely satisfied', 'Neither satisfied nor dissatisfied',\n",
       "       'Slightly satisfied', 'Extremely dissatisfied',\n",
       "       'Moderately dissatisfied'], dtype=object)"
      ]
     },
     "execution_count": 24,
     "metadata": {},
     "output_type": "execute_result"
    }
   ],
   "source": [
    "changers.CareerSatisfaction.unique()"
   ]
  },
  {
   "cell_type": "code",
   "execution_count": 25,
   "metadata": {
    "collapsed": true
   },
   "outputs": [],
   "source": [
    "orderedLabesSat = ['Extremely dissatisfied', 'Moderately dissatisfied', 'Slightly dissatisfied', \n",
    "                   'Neither satisfied nor dissatisfied', 'Slightly satisfied', 'Moderately satisfied', 'Extremely satisfied']"
   ]
  },
  {
   "cell_type": "code",
   "execution_count": 26,
   "metadata": {
    "collapsed": false
   },
   "outputs": [
    {
     "data": {
      "text/html": [
       "<div>\n",
       "<style scoped>\n",
       "    .dataframe tbody tr th:only-of-type {\n",
       "        vertical-align: middle;\n",
       "    }\n",
       "\n",
       "    .dataframe tbody tr th {\n",
       "        vertical-align: top;\n",
       "    }\n",
       "\n",
       "    .dataframe thead th {\n",
       "        text-align: right;\n",
       "    }\n",
       "</style>\n",
       "<table border=\"1\" class=\"dataframe\">\n",
       "  <thead>\n",
       "    <tr style=\"text-align: right;\">\n",
       "      <th></th>\n",
       "      <th>labels</th>\n",
       "      <th>count</th>\n",
       "    </tr>\n",
       "  </thead>\n",
       "  <tbody>\n",
       "    <tr>\n",
       "      <th>0</th>\n",
       "      <td>Moderately satisfied</td>\n",
       "      <td>505</td>\n",
       "    </tr>\n",
       "    <tr>\n",
       "      <th>2</th>\n",
       "      <td>Extremely satisfied</td>\n",
       "      <td>284</td>\n",
       "    </tr>\n",
       "    <tr>\n",
       "      <th>6</th>\n",
       "      <td>Slightly satisfied</td>\n",
       "      <td>245</td>\n",
       "    </tr>\n",
       "    <tr>\n",
       "      <th>3</th>\n",
       "      <td>Slightly dissatisfied</td>\n",
       "      <td>149</td>\n",
       "    </tr>\n",
       "    <tr>\n",
       "      <th>4</th>\n",
       "      <td>Neither satisfied nor dissatisfied</td>\n",
       "      <td>138</td>\n",
       "    </tr>\n",
       "    <tr>\n",
       "      <th>5</th>\n",
       "      <td>Moderately dissatisfied</td>\n",
       "      <td>123</td>\n",
       "    </tr>\n",
       "    <tr>\n",
       "      <th>1</th>\n",
       "      <td>Extremely dissatisfied</td>\n",
       "      <td>79</td>\n",
       "    </tr>\n",
       "  </tbody>\n",
       "</table>\n",
       "</div>"
      ],
      "text/plain": [
       "                               labels  count\n",
       "0                Moderately satisfied    505\n",
       "2                 Extremely satisfied    284\n",
       "6                  Slightly satisfied    245\n",
       "3               Slightly dissatisfied    149\n",
       "4  Neither satisfied nor dissatisfied    138\n",
       "5             Moderately dissatisfied    123\n",
       "1              Extremely dissatisfied     79"
      ]
     },
     "execution_count": 26,
     "metadata": {},
     "output_type": "execute_result"
    }
   ],
   "source": [
    "changersSat = count_labels_in_col(changers.CareerSatisfaction, delim=';')\n",
    "changersSat = changersSat.sort_values('count', ascending=False)\n",
    "changersSat"
   ]
  },
  {
   "cell_type": "code",
   "execution_count": 27,
   "metadata": {
    "collapsed": false
   },
   "outputs": [
    {
     "data": {
      "image/png": "[encoded data removed]",
      "text/plain": [
       "<Figure size 720x576 with 1 Axes>"
      ]
     },
     "metadata": {},
     "output_type": "display_data"
    }
   ],
   "source": [
    "fig, ax1 = plt.subplots(figsize=(10,8))\n",
    "g1 = sns.barplot(x='labels', y='count', order=orderedLabesSat, ax=ax1, data=changersSat)\n",
    "g1.set_title('Career Satisfaction')\n",
    "g1.set_xlabel('Satisfaction')\n",
    "g1.set_ylabel('Number of Persons')\n",
    "g1.xaxis.set_ticklabels(orderedLabesSat, rotation=90)\n",
    "plt.show()"
   ]
  },
  {
   "cell_type": "markdown",
   "metadata": {},
   "source": [
    "### Conclusion:\n",
    "\n",
    "    Satisfied:   1034 developers\n",
    "    Neutral:      138 developers\n",
    "    Dissatisfied: 351 developers\n",
    "\n",
    "There are three times more satisfied developers than dissatisfied."
   ]
  },
  {
   "cell_type": "markdown",
   "metadata": {},
   "source": [
    "## 5. What do career changers what to achieve in five years?\n",
    "\n",
    "Finally, I examine how professional coders would like to see themselves in five years."
   ]
  },
  {
   "cell_type": "code",
   "execution_count": 28,
   "metadata": {
    "collapsed": false
   },
   "outputs": [
    {
     "data": {
      "text/plain": [
       "array([ \"Working in a different or more specialized technical role than the one I'm in now\",\n",
       "       nan, 'Working as a founder or co-founder of my own company',\n",
       "       'Doing the same work',\n",
       "       'Working as an engineering manager or other functional manager',\n",
       "       'Working as a product manager or project manager',\n",
       "       'Working in a career completely unrelated to software development',\n",
       "       'Retirement'], dtype=object)"
      ]
     },
     "execution_count": 28,
     "metadata": {},
     "output_type": "execute_result"
    }
   ],
   "source": [
    "changers.HopeFiveYears.unique()"
   ]
  },
  {
   "cell_type": "code",
   "execution_count": 29,
   "metadata": {
    "collapsed": false
   },
   "outputs": [
    {
     "data": {
      "text/plain": [
       "{'Doing the same work',\n",
       " 'Retirement',\n",
       " 'Working as a founder or co-founder of my own company',\n",
       " 'Working as a product manager or project manager',\n",
       " 'Working as an engineering manager or other functional manager',\n",
       " 'Working in a career completely unrelated to software development',\n",
       " \"Working in a different or more specialized technical role than the one I'm in now\"}"
      ]
     },
     "execution_count": 29,
     "metadata": {},
     "output_type": "execute_result"
    }
   ],
   "source": [
    "fiveYearsLabels = get_unique_values(changers.HopeFiveYears, delim=';')\n",
    "fiveYearsLabels"
   ]
  },
  {
   "cell_type": "code",
   "execution_count": 30,
   "metadata": {
    "collapsed": false
   },
   "outputs": [
    {
     "data": {
      "text/html": [
       "<div>\n",
       "<style scoped>\n",
       "    .dataframe tbody tr th:only-of-type {\n",
       "        vertical-align: middle;\n",
       "    }\n",
       "\n",
       "    .dataframe tbody tr th {\n",
       "        vertical-align: top;\n",
       "    }\n",
       "\n",
       "    .dataframe thead th {\n",
       "        text-align: right;\n",
       "    }\n",
       "</style>\n",
       "<table border=\"1\" class=\"dataframe\">\n",
       "  <thead>\n",
       "    <tr style=\"text-align: right;\">\n",
       "      <th></th>\n",
       "      <th>labels</th>\n",
       "      <th>count</th>\n",
       "    </tr>\n",
       "  </thead>\n",
       "  <tbody>\n",
       "    <tr>\n",
       "      <th>0</th>\n",
       "      <td>Working in a different or more specialized tec...</td>\n",
       "      <td>544</td>\n",
       "    </tr>\n",
       "    <tr>\n",
       "      <th>1</th>\n",
       "      <td>Working as a founder or co-founder of my own c...</td>\n",
       "      <td>358</td>\n",
       "    </tr>\n",
       "    <tr>\n",
       "      <th>2</th>\n",
       "      <td>Doing the same work</td>\n",
       "      <td>325</td>\n",
       "    </tr>\n",
       "    <tr>\n",
       "      <th>5</th>\n",
       "      <td>Working as an engineering manager or other fun...</td>\n",
       "      <td>137</td>\n",
       "    </tr>\n",
       "    <tr>\n",
       "      <th>4</th>\n",
       "      <td>Working as a product manager or project manager</td>\n",
       "      <td>92</td>\n",
       "    </tr>\n",
       "    <tr>\n",
       "      <th>6</th>\n",
       "      <td>Working in a career completely unrelated to so...</td>\n",
       "      <td>36</td>\n",
       "    </tr>\n",
       "    <tr>\n",
       "      <th>3</th>\n",
       "      <td>Retirement</td>\n",
       "      <td>25</td>\n",
       "    </tr>\n",
       "  </tbody>\n",
       "</table>\n",
       "</div>"
      ],
      "text/plain": [
       "                                              labels  count\n",
       "0  Working in a different or more specialized tec...    544\n",
       "1  Working as a founder or co-founder of my own c...    358\n",
       "2                                Doing the same work    325\n",
       "5  Working as an engineering manager or other fun...    137\n",
       "4    Working as a product manager or project manager     92\n",
       "6  Working in a career completely unrelated to so...     36\n",
       "3                                         Retirement     25"
      ]
     },
     "execution_count": 30,
     "metadata": {},
     "output_type": "execute_result"
    }
   ],
   "source": [
    "fiveYears = count_labels_in_col(changers.HopeFiveYears, delim=';')\n",
    "fiveYears = fiveYears.sort_values('count', ascending=False)\n",
    "fiveYears"
   ]
  },
  {
   "cell_type": "code",
   "execution_count": 31,
   "metadata": {
    "collapsed": false
   },
   "outputs": [
    {
     "data": {
      "image/png": "[encoded data removed]",
      "text/plain": [
       "<Figure size 576x720 with 1 Axes>"
      ]
     },
     "metadata": {},
     "output_type": "display_data"
    }
   ],
   "source": [
    "fig, ax1 = plt.subplots(figsize=(8,10))\n",
    "g1 = sns.barplot(y='labels', x='count', order=fiveYears['labels'], ax=ax1, data=fiveYears)\n",
    "g1.set_title('Career Changers\\' Five-Year Hopes')\n",
    "g1.set_ylabel('Future Roles')\n",
    "g1.set_xlabel('Number of Persons')\n",
    "g1.yaxis.set_ticklabels(fiveYears['labels'])\n",
    "plt.show()"
   ]
  },
  {
   "cell_type": "markdown",
   "metadata": {},
   "source": [
    "### Conclusion:\n",
    "\n",
    "Career changers like their current software developer role. Their hopes for the future are:\n",
    "\n",
    "1.  Working in a different or more specialized technical role\n",
    "2.  Working as a founder or co-founder of their own company\n",
    "3.  Doing the same work"
   ]
  },
  {
   "cell_type": "markdown",
   "metadata": {},
   "source": [
    "## This is the end of the analysis."
   ]
  }
 ],
 "metadata": {
  "kernelspec": {
   "display_name": "Python [conda env:aind-dog]",
   "language": "python",
   "name": "conda-env-aind-dog-py"
  },
  "language_info": {
   "codemirror_mode": {
    "name": "ipython",
    "version": 3
   },
   "file_extension": ".py",
   "mimetype": "text/x-python",
   "name": "python",
   "nbconvert_exporter": "python",
   "pygments_lexer": "ipython3",
   "version": "3.5.4"
  }
 },
 "nbformat": 4,
 "nbformat_minor": 2
}
